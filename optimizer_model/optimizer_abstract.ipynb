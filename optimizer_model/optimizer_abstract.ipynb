{
 "cells": [
  {
   "cell_type": "code",
   "execution_count": 1,
   "id": "2e4692f0",
   "metadata": {},
   "outputs": [],
   "source": [
    "import pandas as pd\n",
    "import optuna\n",
    "import numpy as np\n",
    "import matplotlib.pyplot as plt\n",
    "from sklearn.model_selection import train_test_split\n",
    "from sklearn.linear_model import LinearRegression\n",
    "from sklearn.metrics import mean_squared_error, mean_absolute_percentage_error\n",
    "from catboost import CatBoostRegressor\n",
    "from tqdm import tqdm\n",
    "import warnings\n",
    "from datetime import datetime, timedelta"
   ]
  },
  {
   "cell_type": "code",
   "execution_count": 2,
   "id": "d9efe333",
   "metadata": {},
   "outputs": [],
   "source": [
    "original_df = pd.read_csv('to_predict', sep='\\t')\n",
    "original_df['lcl_dt'] = pd.to_datetime(original_df['lcl_dt'])\n",
    "\n",
    "# Функция для добавления временных признаков\n",
    "def add_time_features(df):\n",
    "    df['day_of_week'] = df['lcl_dt'].dt.dayofweek\n",
    "    df['week_of_year'] = df['lcl_dt'].dt.isocalendar().week\n",
    "    df['month_of_year'] = df['lcl_dt'].dt.month\n",
    "    df['week_of_month'] = df['lcl_dt'].apply(lambda x: (x.day - 1) // 7 + 1)\n",
    "    return df.copy()\n",
    "\n",
    "# Объединенная функция для создания лагов и расчета суммы продаж\n",
    "def create_lagged_sales_sums(df, days):\n",
    "    df = df.sort_values(by=['city_name', 'item_id', 'lcl_dt'])\n",
    "    \n",
    "    # Создание лагов\n",
    "    for day in range(1, days + 1):\n",
    "        df[f'sales_lag_{day}'] = df.groupby(['city_name', 'item_id'])['sales'].shift(day)\n",
    "        df[f'osa_perc_lag_{day}'] = df.groupby(['city_name', 'item_id'])['osa_perc'].shift(day)\n",
    "        df[f'avg_price_lag_{day}'] = df.groupby(['city_name', 'item_id'])['avg_price'].shift(day)\n",
    "        df[f'future_price_lag_{day}'] = df.groupby(['city_name', 'item_id'])['avg_price'].shift(-day)\n",
    "    \n",
    "    # Расчет целевых переменных\n",
    "    df['future_sales_sum'] = df.groupby(['city_name', 'item_id'])['sales'].transform(lambda x: x.rolling(window=days, min_periods=1).sum().shift(-days+1))\n",
    "    df['past_sales_sum'] = df.groupby(['city_name', 'item_id'])['sales'].transform(lambda x: x.rolling(window=days).sum())\n",
    "    \n",
    "    return df.copy()\n",
    "\n",
    "# Определение количества дней для лагов\n",
    "days = 7\n",
    "\n",
    "# Добавляем временные признаки\n",
    "df = add_time_features(original_df)\n",
    "\n",
    "# Создаем лаги и целевые переменные\n",
    "df = create_lagged_sales_sums(df, days)\n",
    "\n",
    "df.dropna(subset=[f'future_price_lag_1', f'future_sales_sum', 'past_sales_sum'])\n",
    "\n",
    "df[['lvl3_category_name', 'lvl4_subcategory_name', 'lvl5_subcategory_name', 'city_name']] =\\\n",
    "df[['lvl3_category_name', 'lvl4_subcategory_name', 'lvl5_subcategory_name', 'city_name']].fillna('None')"
   ]
  },
  {
   "cell_type": "code",
   "execution_count": 3,
   "id": "099fd1db",
   "metadata": {},
   "outputs": [],
   "source": [
    "# Предполагая, что lcl_dt уже в формате datetime в формате date\n",
    "yesterday = pd.to_datetime(datetime.today().date() - timedelta(days=1))\n",
    "\n",
    "# Фильтрация записей на вчерашний день\n",
    "filtered_df = df[df['lcl_dt'] == yesterday]"
   ]
  },
  {
   "cell_type": "code",
   "execution_count": 5,
   "id": "fe900617",
   "metadata": {},
   "outputs": [
    {
     "data": {
      "text/plain": [
       "(2852, 44)"
      ]
     },
     "execution_count": 5,
     "metadata": {},
     "output_type": "execute_result"
    }
   ],
   "source": [
    "filtered_df.shape"
   ]
  },
  {
   "cell_type": "code",
   "execution_count": 6,
   "id": "b27ae71e",
   "metadata": {},
   "outputs": [
    {
     "data": {
      "text/plain": [
       "41529    319.0\n",
       "41530    185.0\n",
       "41531    159.0\n",
       "41538    159.0\n",
       "41539    115.0\n",
       "Name: retail_price_with_nds, dtype: float64"
      ]
     },
     "execution_count": 6,
     "metadata": {},
     "output_type": "execute_result"
    }
   ],
   "source": [
    "filtered_df['retail_price_with_nds'].head()"
   ]
  },
  {
   "cell_type": "code",
   "execution_count": 7,
   "id": "584ec40b",
   "metadata": {},
   "outputs": [],
   "source": [
    "# Пример сетки цен\n",
    "price_grid = [\n",
    "  1, 2, 3, 4, 5, 6, 7, 8, 9, 10, 11, 12, 15, 17, 19, 22, \n",
    "  25, 27, 29, 31, 33, 35, 37, 39, 42, 45, 47, 49, 53, 55,\n",
    "  59, 65, 69, 75, 79, 85, 89, 95, 99, 105, 109, 115, 119, \n",
    "  125, 129, 135, 139, 145, 149, 155, 159, 165, 169, 175, \n",
    "  179, 185, 189, 199, 205, 209, 215, 219, 225, 229, 235, \n",
    "  239, 245, 249, 255, 259, 265, 269, 275, 279, 285, 289, \n",
    "  299, 309, 319, 329, 339, 349, 359, 369, 379, 389, 399, \n",
    "  409, 419, 429, 439, 449, 459, 469, 479, 489, 499, 509, \n",
    "  519, 529, 539, 549, 559, 569, 579, 589, 599, 609, 619, \n",
    "  629, 639, 649, 659, 669, 679, 689, 699, 709, 719, 729, \n",
    "  739, 749, 759, 769, 779, 789, 799, 809, 819, 829, 839, \n",
    "  849, 859, 869, 879, 889, 899, 909, 919, 929, 939, 949, \n",
    "  959, 969, 979, 989, 999, 1019, 1039, 1059, 1079, 1099, \n",
    "  1119, 1139, 1159, 1179, 1199, 1219, 1239, 1259, 1279, \n",
    "  1299, 1319, 1339, 1359, 1379, 1399, 1419, 1439, 1459, \n",
    "  1479, 1499, 1519, 1539, 1559, 1579, 1599, 1619, 1639, \n",
    "  1659, 1679, 1699, 1719, 1739, 1759, 1779, 1799, 1819, \n",
    "  1839, 1859, 1879, 1899, 1919, 1939, 1959, 1979, 1999, \n",
    "  2019, 2039, 2059, 2079, 2099, 2119, 2139, 2159, 2179, \n",
    "  2199\n",
    "  ]\n",
    "\n",
    "# Создание нового DataFrame\n",
    "result_rows = []\n",
    "\n",
    "for _, row in filtered_df.iterrows():\n",
    "    item_id = row['item_id']\n",
    "    current_price = row['retail_price_with_nds']\n",
    "    \n",
    "    # Вычисление нижней и верхней границы цены\n",
    "    lower_bound = current_price * 0.9\n",
    "    upper_bound = current_price * 1.1\n",
    "    \n",
    "    # Поиск цен в пределах 10%\n",
    "    valid_prices = [price for price in price_grid if lower_bound <= price <= upper_bound]\n",
    "    \n",
    "    for price in valid_prices:\n",
    "        new_row = row.to_dict()  # Копируем оригинальную строку как словарь\n",
    "        new_row['avg_price'] = price  # Добавляем новое значение цены\n",
    "        result_rows.append(new_row)\n",
    "\n",
    "# Создание результирующего DataFrame\n",
    "result_df = pd.DataFrame(result_rows)"
   ]
  },
  {
   "cell_type": "code",
   "execution_count": 9,
   "id": "c3083dad",
   "metadata": {},
   "outputs": [],
   "source": [
    "lag_features = [f'sales_lag_{day}' for day in range(1, days + 1)] \\\n",
    "             + [f'osa_perc_lag_{day}' for day in range(1, days + 1)] \\\n",
    "             + [f'avg_price_lag_{day}' for day in range(1, days + 1)]\n",
    "\n",
    "categorical_features = ['lvl3_category_name', 'lvl4_subcategory_name', 'lvl5_subcategory_name', 'city_name']\n",
    "time_features = ['day_of_week', 'week_of_year', 'month_of_year', 'week_of_month']\n",
    "numerical_features = ['avg_price', 'past_sales_sum']\n",
    "\n",
    "features = numerical_features + lag_features + categorical_features + time_features\n",
    "\n",
    "X = result_df[features]"
   ]
  },
  {
   "cell_type": "code",
   "execution_count": 10,
   "id": "34a162f7",
   "metadata": {},
   "outputs": [
    {
     "data": {
      "text/plain": [
       "<catboost.core.CatBoostRegressor at 0x15402f8d0>"
      ]
     },
     "execution_count": 10,
     "metadata": {},
     "output_type": "execute_result"
    }
   ],
   "source": [
    "model = CatBoostRegressor()\n",
    "model.load_model(\"catboost_model.cbm\")"
   ]
  },
  {
   "cell_type": "code",
   "execution_count": 11,
   "id": "0e2f2626",
   "metadata": {},
   "outputs": [],
   "source": [
    "result_df['predictions'] = model.predict(X)\n",
    "\n",
    "# Применяем метод clip к столбцу 'predictions' с верхним лимитом 2\n",
    "result_df['predictions'] = result_df['predictions'].clip(upper=1.5)\n",
    "\n",
    "result_df['new_sales_abs'] = result_df['predictions'] * result_df['past_sales_sum']\n",
    "result_df['new_gmv'] = result_df['new_sales_abs'] * result_df['avg_price']"
   ]
  },
  {
   "cell_type": "code",
   "execution_count": 13,
   "id": "834f97bf",
   "metadata": {},
   "outputs": [
    {
     "data": {
      "text/plain": [
       "0    55734.934672\n",
       "1    55734.934672\n",
       "2    55734.934672\n",
       "3    55734.934672\n",
       "4    55734.934672\n",
       "Name: new_gmv, dtype: float64"
      ]
     },
     "execution_count": 13,
     "metadata": {},
     "output_type": "execute_result"
    }
   ],
   "source": [
    "max_gmv_per_item = result_df.groupby('item_id')['new_gmv'].transform('max')\n",
    "max_gmv_per_item.head()"
   ]
  },
  {
   "cell_type": "code",
   "execution_count": 14,
   "id": "4a897861",
   "metadata": {},
   "outputs": [],
   "source": [
    "# Оставляем только те строки, у которых new_gmv равно максимальному значению для данного item_id\n",
    "result_df = result_df[result_df['new_gmv'] == max_gmv_per_item]\n",
    "result_df['new_sales'] = result_df['predictions']-1\n",
    "result_df['optimizer_price'] = result_df['avg_price']"
   ]
  },
  {
   "cell_type": "code",
   "execution_count": 20,
   "id": "d4947d63",
   "metadata": {},
   "outputs": [],
   "source": [
    "columns_to_save = ['item_id', 'new_sales', 'optimizer_price']"
   ]
  },
  {
   "cell_type": "code",
   "execution_count": 24,
   "id": "83bdafa4",
   "metadata": {},
   "outputs": [],
   "source": [
    "result_df[columns_to_save].reset_index(drop=True).to_excel('optimizer_results.xlsx')"
   ]
  }
 ],
 "metadata": {
  "kernelspec": {
   "display_name": "Python 3 (ipykernel)",
   "language": "python",
   "name": "python3"
  },
  "language_info": {
   "codemirror_mode": {
    "name": "ipython",
    "version": 3
   },
   "file_extension": ".py",
   "mimetype": "text/x-python",
   "name": "python",
   "nbconvert_exporter": "python",
   "pygments_lexer": "ipython3",
   "version": "3.11.7"
  }
 },
 "nbformat": 4,
 "nbformat_minor": 5
}
