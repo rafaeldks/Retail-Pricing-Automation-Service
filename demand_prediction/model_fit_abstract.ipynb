{
 "cells": [
  {
   "cell_type": "code",
   "execution_count": 1,
   "id": "6402f01a",
   "metadata": {},
   "outputs": [],
   "source": [
    "import pandas as pd\n",
    "import optuna\n",
    "import numpy as np\n",
    "import matplotlib.pyplot as plt\n",
    "from sklearn.model_selection import train_test_split\n",
    "from sklearn.linear_model import LinearRegression\n",
    "from sklearn.metrics import mean_squared_error, mean_absolute_percentage_error\n",
    "from catboost import CatBoostRegressor\n",
    "from tqdm import tqdm\n",
    "import warnings"
   ]
  },
  {
   "cell_type": "code",
   "execution_count": 3,
   "id": "1ca854d0",
   "metadata": {},
   "outputs": [
    {
     "name": "stdout",
     "output_type": "stream",
     "text": [
      "<class 'pandas.core.frame.DataFrame'>\n",
      "RangeIndex: 971244 entries, 0 to 971243\n",
      "Data columns (total 9 columns):\n",
      " #   Column                 Non-Null Count   Dtype  \n",
      "---  ------                 --------------   -----  \n",
      " 0   lcl_dt                 971244 non-null  object \n",
      " 1   item_id                971244 non-null  int64  \n",
      " 2   avg_price              971244 non-null  float64\n",
      " 3   city_name              971244 non-null  object \n",
      " 4   lvl3_category_name     971244 non-null  object \n",
      " 5   lvl4_subcategory_name  968928 non-null  object \n",
      " 6   lvl5_subcategory_name  951661 non-null  object \n",
      " 7   osa_perc               855367 non-null  float64\n",
      " 8   sales                  971244 non-null  float64\n",
      "dtypes: float64(3), int64(1), object(5)\n",
      "memory usage: 66.7+ MB\n"
     ]
    }
   ],
   "source": [
    "original_df.info()"
   ]
  },
  {
   "cell_type": "code",
   "execution_count": 4,
   "id": "927f5600",
   "metadata": {},
   "outputs": [],
   "source": [
    "original_df['lcl_dt'] = pd.to_datetime(original_df['lcl_dt'])"
   ]
  },
  {
   "cell_type": "code",
   "execution_count": 5,
   "id": "6e2ef1a8",
   "metadata": {},
   "outputs": [
    {
     "data": {
      "text/html": [
       "<div>\n",
       "<style scoped>\n",
       "    .dataframe tbody tr th:only-of-type {\n",
       "        vertical-align: middle;\n",
       "    }\n",
       "\n",
       "    .dataframe tbody tr th {\n",
       "        vertical-align: top;\n",
       "    }\n",
       "\n",
       "    .dataframe thead th {\n",
       "        text-align: right;\n",
       "    }\n",
       "</style>\n",
       "<table border=\"1\" class=\"dataframe\">\n",
       "  <thead>\n",
       "    <tr style=\"text-align: right;\">\n",
       "      <th></th>\n",
       "      <th>lcl_dt</th>\n",
       "      <th>item_id</th>\n",
       "      <th>avg_price</th>\n",
       "      <th>city_name</th>\n",
       "      <th>lvl3_category_name</th>\n",
       "      <th>lvl4_subcategory_name</th>\n",
       "      <th>lvl5_subcategory_name</th>\n",
       "      <th>osa_perc</th>\n",
       "      <th>sales</th>\n",
       "    </tr>\n",
       "  </thead>\n",
       "  <tbody>\n",
       "    <tr>\n",
       "      <th>0</th>\n",
       "      <td>2024-01-26</td>\n",
       "      <td>10000001</td>\n",
       "      <td>92.000000</td>\n",
       "      <td>Новосибирск</td>\n",
       "      <td>Напитки</td>\n",
       "      <td>Безалкогольные напитки</td>\n",
       "      <td>Напитки газированные</td>\n",
       "      <td>0.868421</td>\n",
       "      <td>26.0</td>\n",
       "    </tr>\n",
       "    <tr>\n",
       "      <th>1</th>\n",
       "      <td>2024-01-26</td>\n",
       "      <td>10000005</td>\n",
       "      <td>342.157895</td>\n",
       "      <td>Новосибирск</td>\n",
       "      <td>Замороженная продукция</td>\n",
       "      <td>Пельмени и вареники</td>\n",
       "      <td>Пельмени</td>\n",
       "      <td>0.904605</td>\n",
       "      <td>19.0</td>\n",
       "    </tr>\n",
       "    <tr>\n",
       "      <th>2</th>\n",
       "      <td>2024-01-26</td>\n",
       "      <td>10000013</td>\n",
       "      <td>159.857143</td>\n",
       "      <td>Новосибирск</td>\n",
       "      <td>Замороженная продукция</td>\n",
       "      <td>Овощи и смеси замороженные</td>\n",
       "      <td>Овощи замороженные</td>\n",
       "      <td>0.983553</td>\n",
       "      <td>7.0</td>\n",
       "    </tr>\n",
       "    <tr>\n",
       "      <th>3</th>\n",
       "      <td>2024-01-26</td>\n",
       "      <td>10000014</td>\n",
       "      <td>202.600000</td>\n",
       "      <td>Новосибирск</td>\n",
       "      <td>Замороженная продукция</td>\n",
       "      <td>Пельмени и вареники</td>\n",
       "      <td>Вареники</td>\n",
       "      <td>0.940789</td>\n",
       "      <td>5.0</td>\n",
       "    </tr>\n",
       "    <tr>\n",
       "      <th>4</th>\n",
       "      <td>2024-01-26</td>\n",
       "      <td>10000015</td>\n",
       "      <td>83.950000</td>\n",
       "      <td>Москва</td>\n",
       "      <td>Кондитерские изделия и снеки</td>\n",
       "      <td>Шоколад и шоколадные батончики</td>\n",
       "      <td>Шоколад</td>\n",
       "      <td>0.299342</td>\n",
       "      <td>75.0</td>\n",
       "    </tr>\n",
       "  </tbody>\n",
       "</table>\n",
       "</div>"
      ],
      "text/plain": [
       "      lcl_dt   item_id   avg_price    city_name            lvl3_category_name  \\\n",
       "0 2024-01-26  10000001   92.000000  Новосибирск                       Напитки   \n",
       "1 2024-01-26  10000005  342.157895  Новосибирск        Замороженная продукция   \n",
       "2 2024-01-26  10000013  159.857143  Новосибирск        Замороженная продукция   \n",
       "3 2024-01-26  10000014  202.600000  Новосибирск        Замороженная продукция   \n",
       "4 2024-01-26  10000015   83.950000       Москва  Кондитерские изделия и снеки   \n",
       "\n",
       "            lvl4_subcategory_name lvl5_subcategory_name  osa_perc  sales  \n",
       "0          Безалкогольные напитки  Напитки газированные  0.868421   26.0  \n",
       "1             Пельмени и вареники              Пельмени  0.904605   19.0  \n",
       "2      Овощи и смеси замороженные    Овощи замороженные  0.983553    7.0  \n",
       "3             Пельмени и вареники              Вареники  0.940789    5.0  \n",
       "4  Шоколад и шоколадные батончики               Шоколад  0.299342   75.0  "
      ]
     },
     "execution_count": 5,
     "metadata": {},
     "output_type": "execute_result"
    }
   ],
   "source": [
    "original_df.head()"
   ]
  },
  {
   "cell_type": "code",
   "execution_count": 6,
   "id": "a261271d",
   "metadata": {},
   "outputs": [
    {
     "name": "stdout",
     "output_type": "stream",
     "text": [
      "<class 'pandas.core.frame.DataFrame'>\n",
      "RangeIndex: 971244 entries, 0 to 971243\n",
      "Data columns (total 9 columns):\n",
      " #   Column                 Non-Null Count   Dtype         \n",
      "---  ------                 --------------   -----         \n",
      " 0   lcl_dt                 971244 non-null  datetime64[ns]\n",
      " 1   item_id                971244 non-null  int64         \n",
      " 2   avg_price              971244 non-null  float64       \n",
      " 3   city_name              971244 non-null  object        \n",
      " 4   lvl3_category_name     971244 non-null  object        \n",
      " 5   lvl4_subcategory_name  968928 non-null  object        \n",
      " 6   lvl5_subcategory_name  951661 non-null  object        \n",
      " 7   osa_perc               855367 non-null  float64       \n",
      " 8   sales                  971244 non-null  float64       \n",
      "dtypes: datetime64[ns](1), float64(3), int64(1), object(4)\n",
      "memory usage: 66.7+ MB\n"
     ]
    }
   ],
   "source": [
    "original_df.info()"
   ]
  },
  {
   "cell_type": "markdown",
   "id": "8f0ac63d",
   "metadata": {},
   "source": [
    "## Преобразование данных"
   ]
  },
  {
   "cell_type": "code",
   "execution_count": 10,
   "id": "3a857039",
   "metadata": {},
   "outputs": [],
   "source": [
    "# Функция для добавления временных признаков\n",
    "def add_time_features(df):\n",
    "    df['day_of_week'] = df['lcl_dt'].dt.dayofweek\n",
    "    df['week_of_year'] = df['lcl_dt'].dt.isocalendar().week\n",
    "    df['month_of_year'] = df['lcl_dt'].dt.month\n",
    "    df['week_of_month'] = df['lcl_dt'].apply(lambda x: (x.day - 1) // 7 + 1)\n",
    "    return df.copy()\n",
    "\n",
    "# Объединенная функция для создания лагов и расчета суммы продаж\n",
    "def create_lagged_sales_sums(df, days):\n",
    "    df = df.sort_values(by=['city_name', 'item_id', 'lcl_dt'])\n",
    "    \n",
    "    # Создание лагов\n",
    "    for day in range(1, days + 1):\n",
    "        df[f'sales_lag_{day}'] = df.groupby(['city_name', 'item_id'])['sales'].shift(day)\n",
    "        df[f'osa_perc_lag_{day}'] = df.groupby(['city_name', 'item_id'])['osa_perc'].shift(day)\n",
    "        df[f'avg_price_lag_{day}'] = df.groupby(['city_name', 'item_id'])['avg_price'].shift(day)\n",
    "        df[f'future_price_lag_{day}'] = df.groupby(['city_name', 'item_id'])['avg_price'].shift(-day)\n",
    "    \n",
    "    # Расчет целевых переменных\n",
    "    df['future_sales_sum'] = df.groupby(['city_name', 'item_id'])['sales'].transform(lambda x: x.rolling(window=days, min_periods=1).sum().shift(-days+1))\n",
    "    df['past_sales_sum'] = df.groupby(['city_name', 'item_id'])['sales'].transform(lambda x: x.rolling(window=days).sum())\n",
    "    \n",
    "    return df.copy()\n",
    "\n",
    "# Определение количества дней для лагов\n",
    "days = 7\n",
    "\n",
    "# Добавляем временные признаки\n",
    "df = add_time_features(original_df)\n",
    "\n",
    "# Создаем лаги и целевые переменные\n",
    "df = create_lagged_sales_sums(df, days)"
   ]
  },
  {
   "cell_type": "code",
   "execution_count": 11,
   "id": "be1c6a3e",
   "metadata": {},
   "outputs": [
    {
     "data": {
      "text/html": [
       "<div>\n",
       "<style scoped>\n",
       "    .dataframe tbody tr th:only-of-type {\n",
       "        vertical-align: middle;\n",
       "    }\n",
       "\n",
       "    .dataframe tbody tr th {\n",
       "        vertical-align: top;\n",
       "    }\n",
       "\n",
       "    .dataframe thead th {\n",
       "        text-align: right;\n",
       "    }\n",
       "</style>\n",
       "<table border=\"1\" class=\"dataframe\">\n",
       "  <thead>\n",
       "    <tr style=\"text-align: right;\">\n",
       "      <th></th>\n",
       "      <th>lcl_dt</th>\n",
       "      <th>item_id</th>\n",
       "      <th>avg_price</th>\n",
       "      <th>city_name</th>\n",
       "      <th>lvl3_category_name</th>\n",
       "      <th>lvl4_subcategory_name</th>\n",
       "      <th>lvl5_subcategory_name</th>\n",
       "      <th>osa_perc</th>\n",
       "      <th>sales</th>\n",
       "      <th>day_of_week</th>\n",
       "      <th>...</th>\n",
       "      <th>sales_lag_6</th>\n",
       "      <th>osa_perc_lag_6</th>\n",
       "      <th>avg_price_lag_6</th>\n",
       "      <th>future_price_lag_6</th>\n",
       "      <th>sales_lag_7</th>\n",
       "      <th>osa_perc_lag_7</th>\n",
       "      <th>avg_price_lag_7</th>\n",
       "      <th>future_price_lag_7</th>\n",
       "      <th>future_sales_sum</th>\n",
       "      <th>past_sales_sum</th>\n",
       "    </tr>\n",
       "  </thead>\n",
       "  <tbody>\n",
       "    <tr>\n",
       "      <th>956573</th>\n",
       "      <td>2024-04-24</td>\n",
       "      <td>1021</td>\n",
       "      <td>100.328542</td>\n",
       "      <td>Екатеринбург</td>\n",
       "      <td>Замороженная продукция</td>\n",
       "      <td>Полуфабрикаты из теста замороженные</td>\n",
       "      <td>Блинчики замороженные</td>\n",
       "      <td>0.898174</td>\n",
       "      <td>336.0</td>\n",
       "      <td>2</td>\n",
       "      <td>...</td>\n",
       "      <td>NaN</td>\n",
       "      <td>NaN</td>\n",
       "      <td>NaN</td>\n",
       "      <td>NaN</td>\n",
       "      <td>NaN</td>\n",
       "      <td>NaN</td>\n",
       "      <td>NaN</td>\n",
       "      <td>NaN</td>\n",
       "      <td>NaN</td>\n",
       "      <td>NaN</td>\n",
       "    </tr>\n",
       "    <tr>\n",
       "      <th>956575</th>\n",
       "      <td>2024-04-24</td>\n",
       "      <td>1022</td>\n",
       "      <td>149.036145</td>\n",
       "      <td>Екатеринбург</td>\n",
       "      <td>Замороженная продукция</td>\n",
       "      <td>Полуфабрикаты из теста замороженные</td>\n",
       "      <td>Блинчики замороженные</td>\n",
       "      <td>0.917742</td>\n",
       "      <td>166.0</td>\n",
       "      <td>2</td>\n",
       "      <td>...</td>\n",
       "      <td>NaN</td>\n",
       "      <td>NaN</td>\n",
       "      <td>NaN</td>\n",
       "      <td>NaN</td>\n",
       "      <td>NaN</td>\n",
       "      <td>NaN</td>\n",
       "      <td>NaN</td>\n",
       "      <td>NaN</td>\n",
       "      <td>NaN</td>\n",
       "      <td>NaN</td>\n",
       "    </tr>\n",
       "    <tr>\n",
       "      <th>956579</th>\n",
       "      <td>2024-04-24</td>\n",
       "      <td>1023</td>\n",
       "      <td>599.000000</td>\n",
       "      <td>Екатеринбург</td>\n",
       "      <td>Гигиена</td>\n",
       "      <td>Для бритья</td>\n",
       "      <td>Женское бритье</td>\n",
       "      <td>0.907555</td>\n",
       "      <td>68.0</td>\n",
       "      <td>2</td>\n",
       "      <td>...</td>\n",
       "      <td>NaN</td>\n",
       "      <td>NaN</td>\n",
       "      <td>NaN</td>\n",
       "      <td>NaN</td>\n",
       "      <td>NaN</td>\n",
       "      <td>NaN</td>\n",
       "      <td>NaN</td>\n",
       "      <td>NaN</td>\n",
       "      <td>NaN</td>\n",
       "      <td>NaN</td>\n",
       "    </tr>\n",
       "    <tr>\n",
       "      <th>956584</th>\n",
       "      <td>2024-04-24</td>\n",
       "      <td>1028</td>\n",
       "      <td>148.215311</td>\n",
       "      <td>Екатеринбург</td>\n",
       "      <td>Гигиена</td>\n",
       "      <td>Туалетная бумага и бумажная продукция</td>\n",
       "      <td>Бумажные полотенца</td>\n",
       "      <td>0.925595</td>\n",
       "      <td>418.0</td>\n",
       "      <td>2</td>\n",
       "      <td>...</td>\n",
       "      <td>NaN</td>\n",
       "      <td>NaN</td>\n",
       "      <td>NaN</td>\n",
       "      <td>NaN</td>\n",
       "      <td>NaN</td>\n",
       "      <td>NaN</td>\n",
       "      <td>NaN</td>\n",
       "      <td>NaN</td>\n",
       "      <td>NaN</td>\n",
       "      <td>NaN</td>\n",
       "    </tr>\n",
       "    <tr>\n",
       "      <th>956598</th>\n",
       "      <td>2024-04-24</td>\n",
       "      <td>1038</td>\n",
       "      <td>69.407341</td>\n",
       "      <td>Екатеринбург</td>\n",
       "      <td>Кондитерские изделия и снеки</td>\n",
       "      <td>Вафли</td>\n",
       "      <td>Вафли традиционные</td>\n",
       "      <td>0.911904</td>\n",
       "      <td>613.0</td>\n",
       "      <td>2</td>\n",
       "      <td>...</td>\n",
       "      <td>NaN</td>\n",
       "      <td>NaN</td>\n",
       "      <td>NaN</td>\n",
       "      <td>NaN</td>\n",
       "      <td>NaN</td>\n",
       "      <td>NaN</td>\n",
       "      <td>NaN</td>\n",
       "      <td>NaN</td>\n",
       "      <td>NaN</td>\n",
       "      <td>NaN</td>\n",
       "    </tr>\n",
       "  </tbody>\n",
       "</table>\n",
       "<p>5 rows × 43 columns</p>\n",
       "</div>"
      ],
      "text/plain": [
       "           lcl_dt  item_id   avg_price     city_name  \\\n",
       "956573 2024-04-24     1021  100.328542  Екатеринбург   \n",
       "956575 2024-04-24     1022  149.036145  Екатеринбург   \n",
       "956579 2024-04-24     1023  599.000000  Екатеринбург   \n",
       "956584 2024-04-24     1028  148.215311  Екатеринбург   \n",
       "956598 2024-04-24     1038   69.407341  Екатеринбург   \n",
       "\n",
       "                  lvl3_category_name                  lvl4_subcategory_name  \\\n",
       "956573        Замороженная продукция    Полуфабрикаты из теста замороженные   \n",
       "956575        Замороженная продукция    Полуфабрикаты из теста замороженные   \n",
       "956579                       Гигиена                             Для бритья   \n",
       "956584                       Гигиена  Туалетная бумага и бумажная продукция   \n",
       "956598  Кондитерские изделия и снеки                                  Вафли   \n",
       "\n",
       "        lvl5_subcategory_name  osa_perc  sales  day_of_week  ...  sales_lag_6  \\\n",
       "956573  Блинчики замороженные  0.898174  336.0            2  ...          NaN   \n",
       "956575  Блинчики замороженные  0.917742  166.0            2  ...          NaN   \n",
       "956579         Женское бритье  0.907555   68.0            2  ...          NaN   \n",
       "956584     Бумажные полотенца  0.925595  418.0            2  ...          NaN   \n",
       "956598     Вафли традиционные  0.911904  613.0            2  ...          NaN   \n",
       "\n",
       "        osa_perc_lag_6  avg_price_lag_6  future_price_lag_6  sales_lag_7  \\\n",
       "956573             NaN              NaN                 NaN          NaN   \n",
       "956575             NaN              NaN                 NaN          NaN   \n",
       "956579             NaN              NaN                 NaN          NaN   \n",
       "956584             NaN              NaN                 NaN          NaN   \n",
       "956598             NaN              NaN                 NaN          NaN   \n",
       "\n",
       "        osa_perc_lag_7  avg_price_lag_7  future_price_lag_7  future_sales_sum  \\\n",
       "956573             NaN              NaN                 NaN               NaN   \n",
       "956575             NaN              NaN                 NaN               NaN   \n",
       "956579             NaN              NaN                 NaN               NaN   \n",
       "956584             NaN              NaN                 NaN               NaN   \n",
       "956598             NaN              NaN                 NaN               NaN   \n",
       "\n",
       "        past_sales_sum  \n",
       "956573             NaN  \n",
       "956575             NaN  \n",
       "956579             NaN  \n",
       "956584             NaN  \n",
       "956598             NaN  \n",
       "\n",
       "[5 rows x 43 columns]"
      ]
     },
     "execution_count": 11,
     "metadata": {},
     "output_type": "execute_result"
    }
   ],
   "source": [
    "df.head()"
   ]
  },
  {
   "cell_type": "code",
   "execution_count": 12,
   "id": "48dde442",
   "metadata": {},
   "outputs": [
    {
     "data": {
      "text/plain": [
       "(971244, 43)"
      ]
     },
     "execution_count": 12,
     "metadata": {},
     "output_type": "execute_result"
    }
   ],
   "source": [
    "df.shape"
   ]
  },
  {
   "cell_type": "code",
   "execution_count": 13,
   "id": "1d3409a8",
   "metadata": {},
   "outputs": [
    {
     "data": {
      "text/plain": [
       "Index(['lcl_dt', 'item_id', 'avg_price', 'city_name', 'lvl3_category_name',\n",
       "       'lvl4_subcategory_name', 'lvl5_subcategory_name', 'osa_perc', 'sales',\n",
       "       'day_of_week', 'week_of_year', 'month_of_year', 'week_of_month',\n",
       "       'sales_lag_1', 'osa_perc_lag_1', 'avg_price_lag_1',\n",
       "       'future_price_lag_1', 'sales_lag_2', 'osa_perc_lag_2',\n",
       "       'avg_price_lag_2', 'future_price_lag_2', 'sales_lag_3',\n",
       "       'osa_perc_lag_3', 'avg_price_lag_3', 'future_price_lag_3',\n",
       "       'sales_lag_4', 'osa_perc_lag_4', 'avg_price_lag_4',\n",
       "       'future_price_lag_4', 'sales_lag_5', 'osa_perc_lag_5',\n",
       "       'avg_price_lag_5', 'future_price_lag_5', 'sales_lag_6',\n",
       "       'osa_perc_lag_6', 'avg_price_lag_6', 'future_price_lag_6',\n",
       "       'sales_lag_7', 'osa_perc_lag_7', 'avg_price_lag_7',\n",
       "       'future_price_lag_7', 'future_sales_sum', 'past_sales_sum'],\n",
       "      dtype='object')"
      ]
     },
     "execution_count": 13,
     "metadata": {},
     "output_type": "execute_result"
    }
   ],
   "source": [
    "df.columns"
   ]
  },
  {
   "cell_type": "code",
   "execution_count": 14,
   "id": "15eab381",
   "metadata": {},
   "outputs": [],
   "source": [
    "# Фильтрация по критерию стабильности цены\n",
    "def is_price_stable(row, threshold=0.05):\n",
    "    start_price = row['avg_price']\n",
    "    if start_price == 0:  # Добавлена проверка на ноль\n",
    "        return False\n",
    "    \n",
    "    for day in range(1, days + 1):\n",
    "        future_price = row[f'future_price_lag_{day}']\n",
    "        if abs((future_price - start_price) / start_price) > threshold:\n",
    "            return False\n",
    "    return True\n",
    "\n",
    "# Применение фильтрации\n",
    "stable_price_df = df[df.apply(is_price_stable, axis=1)]\n",
    "\n",
    "# Удаляем строки с NaN, созданные при сдвиге\n",
    "stable_price_df = stable_price_df.dropna(subset=[f'future_price_lag_1', f'future_sales_sum', 'past_sales_sum'])"
   ]
  },
  {
   "cell_type": "code",
   "execution_count": 15,
   "id": "f83ca8ff",
   "metadata": {},
   "outputs": [],
   "source": [
    "stable_price_df['target'] = stable_price_df['future_sales_sum']/stable_price_df['past_sales_sum']"
   ]
  },
  {
   "cell_type": "code",
   "execution_count": 16,
   "id": "ed4608f4",
   "metadata": {},
   "outputs": [
    {
     "data": {
      "text/plain": [
       "(608806, 44)"
      ]
     },
     "execution_count": 16,
     "metadata": {},
     "output_type": "execute_result"
    }
   ],
   "source": [
    "stable_price_df.shape"
   ]
  },
  {
   "cell_type": "code",
   "execution_count": 17,
   "id": "23d509c4",
   "metadata": {},
   "outputs": [
    {
     "data": {
      "text/plain": [
       "Index(['lcl_dt', 'item_id', 'avg_price', 'city_name', 'lvl3_category_name',\n",
       "       'lvl4_subcategory_name', 'lvl5_subcategory_name', 'osa_perc', 'sales',\n",
       "       'day_of_week', 'week_of_year', 'month_of_year', 'week_of_month',\n",
       "       'sales_lag_1', 'osa_perc_lag_1', 'avg_price_lag_1',\n",
       "       'future_price_lag_1', 'sales_lag_2', 'osa_perc_lag_2',\n",
       "       'avg_price_lag_2', 'future_price_lag_2', 'sales_lag_3',\n",
       "       'osa_perc_lag_3', 'avg_price_lag_3', 'future_price_lag_3',\n",
       "       'sales_lag_4', 'osa_perc_lag_4', 'avg_price_lag_4',\n",
       "       'future_price_lag_4', 'sales_lag_5', 'osa_perc_lag_5',\n",
       "       'avg_price_lag_5', 'future_price_lag_5', 'sales_lag_6',\n",
       "       'osa_perc_lag_6', 'avg_price_lag_6', 'future_price_lag_6',\n",
       "       'sales_lag_7', 'osa_perc_lag_7', 'avg_price_lag_7',\n",
       "       'future_price_lag_7', 'future_sales_sum', 'past_sales_sum', 'target'],\n",
       "      dtype='object')"
      ]
     },
     "execution_count": 17,
     "metadata": {},
     "output_type": "execute_result"
    }
   ],
   "source": [
    "stable_price_df.columns"
   ]
  },
  {
   "cell_type": "code",
   "execution_count": 18,
   "id": "e95358dc",
   "metadata": {},
   "outputs": [],
   "source": [
    "data = stable_price_df.copy()"
   ]
  },
  {
   "cell_type": "markdown",
   "id": "9ed9398e",
   "metadata": {},
   "source": [
    "## Заполнение пропусков"
   ]
  },
  {
   "cell_type": "code",
   "execution_count": 19,
   "id": "7aeb3f01",
   "metadata": {},
   "outputs": [],
   "source": [
    "data[['lvl3_category_name', 'lvl4_subcategory_name', 'lvl5_subcategory_name', 'city_name']] =\\\n",
    "data[['lvl3_category_name', 'lvl4_subcategory_name', 'lvl5_subcategory_name', 'city_name']].fillna('None')"
   ]
  },
  {
   "cell_type": "markdown",
   "id": "1640ab71",
   "metadata": {},
   "source": [
    "## Обучение модели"
   ]
  },
  {
   "cell_type": "code",
   "execution_count": 20,
   "id": "cba17087",
   "metadata": {
    "scrolled": true
   },
   "outputs": [
    {
     "name": "stderr",
     "output_type": "stream",
     "text": [
      "[I 2025-03-17 19:08:26,633] A new study created in memory with name: no-name-4cf9ab9a-493f-42c2-8f4c-263cc2f0027f\n",
      "Optimizing:   0%|                                        | 0/10 [00:00<?, ?it/s][I 2025-03-17 19:08:32,828] Trial 0 finished with value: 0.28302257162559663 and parameters: {'iterations': 227, 'depth': 6, 'learning_rate': 0.09120146452139143}. Best is trial 0 with value: 0.28302257162559663.\n",
      "Optimizing:  10%|███▏                            | 1/10 [00:06<00:55,  6.15s/it][I 2025-03-17 19:08:34,889] Trial 1 finished with value: 0.292038089186011 and parameters: {'iterations': 40, 'depth': 9, 'learning_rate': 0.019470099562544224}. Best is trial 0 with value: 0.28302257162559663.\n",
      "Optimizing:  20%|██████▍                         | 2/10 [00:08<00:29,  3.74s/it][I 2025-03-17 19:08:59,615] Trial 2 finished with value: 0.2856443342801102 and parameters: {'iterations': 250, 'depth': 9, 'learning_rate': 0.010689544289492193}. Best is trial 0 with value: 0.28302257162559663.\n",
      "Optimizing:  30%|█████████▌                      | 3/10 [00:32<01:33, 13.32s/it][I 2025-03-17 19:09:02,046] Trial 3 finished with value: 0.2819363432558231 and parameters: {'iterations': 60, 'depth': 8, 'learning_rate': 0.09472347881667126}. Best is trial 3 with value: 0.2819363432558231.\n",
      "Optimizing:  40%|████████████▊                   | 4/10 [00:35<00:54,  9.02s/it][I 2025-03-17 19:09:05,054] Trial 4 finished with value: 0.2883942028991034 and parameters: {'iterations': 100, 'depth': 6, 'learning_rate': 0.011375733552382757}. Best is trial 3 with value: 0.2819363432558231.\n",
      "Optimizing:  50%|████████████████                | 5/10 [00:38<00:34,  6.85s/it][I 2025-03-17 19:09:06,682] Trial 5 finished with value: 0.2865980796122095 and parameters: {'iterations': 52, 'depth': 5, 'learning_rate': 0.03256797388239707}. Best is trial 3 with value: 0.2819363432558231.\n",
      "Optimizing:  60%|███████████████████▏            | 6/10 [00:40<00:20,  5.08s/it][I 2025-03-17 19:09:09,257] Trial 6 finished with value: 0.28791162001659615 and parameters: {'iterations': 170, 'depth': 7, 'learning_rate': 0.11831312157361717}. Best is trial 3 with value: 0.2819363432558231.\n",
      "Optimizing:  70%|██████████████████████▍         | 7/10 [00:42<00:12,  4.26s/it][I 2025-03-17 19:09:21,193] Trial 7 finished with value: 0.27959237885966964 and parameters: {'iterations': 231, 'depth': 5, 'learning_rate': 0.026541441177494934}. Best is trial 7 with value: 0.27959237885966964.\n",
      "Optimizing:  80%|█████████████████████████▌      | 8/10 [00:54<00:13,  6.70s/it][I 2025-03-17 19:09:24,875] Trial 8 finished with value: 0.2867091271819833 and parameters: {'iterations': 163, 'depth': 4, 'learning_rate': 0.015870684230978146}. Best is trial 7 with value: 0.27959237885966964.\n",
      "Optimizing:  90%|████████████████████████████▊   | 9/10 [00:58<00:05,  5.76s/it][I 2025-03-17 19:09:31,526] Trial 9 finished with value: 0.2817216980583067 and parameters: {'iterations': 198, 'depth': 7, 'learning_rate': 0.015530894049439359}. Best is trial 7 with value: 0.27959237885966964.\n",
      "Optimizing: 100%|███████████████████████████████| 10/10 [01:04<00:00,  6.48s/it]\n"
     ]
    },
    {
     "name": "stdout",
     "output_type": "stream",
     "text": [
      "Best hyperparameters: {'iterations': 231, 'depth': 5, 'learning_rate': 0.026541441177494934}\n",
      "0:\tlearn: 0.9830847\ttest: 0.3032127\tbest: 0.3032127 (0)\ttotal: 58.9ms\tremaining: 13.5s\n",
      "100:\tlearn: 0.9399114\ttest: 0.2846969\tbest: 0.2845604 (99)\ttotal: 5.19s\tremaining: 6.68s\n",
      "200:\tlearn: 0.9099684\ttest: 0.2805418\tbest: 0.2804999 (199)\ttotal: 10.1s\tremaining: 1.5s\n",
      "230:\tlearn: 0.9047650\ttest: 0.2795924\tbest: 0.2795924 (230)\ttotal: 11.5s\tremaining: 0us\n",
      "\n",
      "bestTest = 0.2795923787\n",
      "bestIteration = 230\n",
      "\n"
     ]
    },
    {
     "data": {
      "text/plain": [
       "<catboost.core.CatBoostRegressor at 0x16d9f2450>"
      ]
     },
     "execution_count": 20,
     "metadata": {},
     "output_type": "execute_result"
    }
   ],
   "source": [
    "# Выбор признаков и целевой переменной\n",
    "lag_features = [f'sales_lag_{day}' for day in range(1, days + 1)] \\\n",
    "             + [f'osa_perc_lag_{day}' for day in range(1, days + 1)] \\\n",
    "             + [f'avg_price_lag_{day}' for day in range(1, days + 1)]\n",
    "\n",
    "categorical_features = ['lvl3_category_name', 'lvl4_subcategory_name', 'lvl5_subcategory_name', 'city_name']\n",
    "time_features = ['day_of_week', 'week_of_year', 'month_of_year', 'week_of_month']\n",
    "numerical_features = ['avg_price', 'past_sales_sum']\n",
    "\n",
    "features = numerical_features + lag_features + categorical_features + time_features\n",
    "X = data[features]\n",
    "y = data['target']\n",
    "\n",
    "# Разделение данных на обучающую и тестовую выборки\n",
    "train_size = int(len(data) * 0.8)\n",
    "X_train, X_test = X.iloc[:train_size], X.iloc[train_size:]\n",
    "y_train, y_test = y.iloc[:train_size], y.iloc[train_size:]\n",
    "\n",
    "# Disable warnings\n",
    "warnings.filterwarnings('ignore')\n",
    "\n",
    "# Загрузка и подготовка данных...\n",
    "\n",
    "tqdm.pandas()  # For progress bar with Optuna\n",
    "\n",
    "def objective(trial):\n",
    "    # Определение гиперпараметров\n",
    "    iterations = trial.suggest_int('iterations', 0, 300)\n",
    "    depth = trial.suggest_int('depth', 4, 10)\n",
    "    learning_rate = trial.suggest_loguniform('learning_rate', 0.01, 0.2)\n",
    "\n",
    "    # Создание модели CatBoost с текущими гиперпараметрами\n",
    "    catboost_model = CatBoostRegressor(\n",
    "        iterations=iterations,\n",
    "        depth=depth,\n",
    "        learning_rate=learning_rate,\n",
    "        loss_function='RMSE',\n",
    "        cat_features=[features.index(feat) for feat in categorical_features],\n",
    "        feature_weights=[3.0 if feat == 'avg_price' else 1.0 for feat in features],\n",
    "        verbose=0\n",
    "    )\n",
    "    \n",
    "    # Обучение модели\n",
    "    catboost_model.fit(X_train, y_train, eval_set=(X_test, y_test), early_stopping_rounds=50, verbose=0)\n",
    "    \n",
    "    # Предсказание и расчет метрики\n",
    "    y_pred = catboost_model.predict(X_test)\n",
    "    rmse = mean_squared_error(y_test, y_pred, squared=False)\n",
    "    \n",
    "    return rmse\n",
    "\n",
    "# Запуск Optuna с прогресс-баром\n",
    "study = optuna.create_study(direction='minimize')\n",
    "for _ in tqdm(range(10), desc=\"Optimizing\"):\n",
    "    study.optimize(objective, n_trials=1)\n",
    "\n",
    "# Вывод лучших гиперпараметров\n",
    "print(\"Best hyperparameters:\", study.best_params)\n",
    "\n",
    "# Обучение модели с лучшими гиперпараметрами\n",
    "best_model = CatBoostRegressor(\n",
    "    iterations=study.best_params['iterations'],\n",
    "    depth=study.best_params['depth'],\n",
    "    learning_rate=study.best_params['learning_rate'],\n",
    "    loss_function='RMSE',\n",
    "    cat_features=[features.index(feat) for feat in categorical_features],\n",
    "    feature_weights=[3.0 if feat == 'avg_price' else 1.0 for feat in features],\n",
    "    verbose=100\n",
    ")\n",
    "\n",
    "best_model.fit(X_train, y_train, eval_set=(X_test, y_test), verbose=100)"
   ]
  },
  {
   "cell_type": "code",
   "execution_count": 22,
   "id": "7bf0edb6",
   "metadata": {
    "scrolled": true
   },
   "outputs": [
    {
     "name": "stdout",
     "output_type": "stream",
     "text": [
      "CatBoost Regressor MSE: 0.07817189831640906\n",
      "CatBoost Regressor RMSE: 0.27959237885966964\n",
      "CatBoost Regressor MAPE: 0.18849462287101504\n",
      "Feature: avg_price, Importance: 15.291823138035468\n",
      "Feature: past_sales_sum, Importance: 3.6518754810241125\n",
      "Feature: sales_lag_1, Importance: 7.02393180165986\n",
      "Feature: sales_lag_2, Importance: 1.5384205993994862\n",
      "Feature: sales_lag_3, Importance: 1.877726662957644\n",
      "Feature: sales_lag_4, Importance: 2.0104406812701585\n",
      "Feature: sales_lag_5, Importance: 1.8030191037323648\n",
      "Feature: sales_lag_6, Importance: 0.17308026207785138\n",
      "Feature: sales_lag_7, Importance: 0.4794410324379705\n",
      "Feature: osa_perc_lag_1, Importance: 28.55763854426192\n",
      "Feature: osa_perc_lag_2, Importance: 11.617177994678862\n",
      "Feature: osa_perc_lag_3, Importance: 5.101617826978625\n",
      "Feature: osa_perc_lag_4, Importance: 2.5790781388223465\n",
      "Feature: osa_perc_lag_5, Importance: 2.923238950548013\n",
      "Feature: osa_perc_lag_6, Importance: 2.684539956466282\n",
      "Feature: osa_perc_lag_7, Importance: 0.051885078979848544\n",
      "Feature: avg_price_lag_1, Importance: 0.021138524170203846\n",
      "Feature: avg_price_lag_2, Importance: 0.004138756320456192\n",
      "Feature: avg_price_lag_3, Importance: 0.0\n",
      "Feature: avg_price_lag_4, Importance: 0.4141326943625827\n",
      "Feature: avg_price_lag_5, Importance: 0.114966435137085\n",
      "Feature: avg_price_lag_6, Importance: 0.0\n",
      "Feature: avg_price_lag_7, Importance: 0.16997827628626694\n",
      "Feature: lvl3_category_name, Importance: 2.3535937044438606\n",
      "Feature: lvl4_subcategory_name, Importance: 0.8626689184780313\n",
      "Feature: lvl5_subcategory_name, Importance: 0.37232390237589924\n",
      "Feature: city_name, Importance: 7.170854365038382\n",
      "Feature: day_of_week, Importance: 0.0\n",
      "Feature: week_of_year, Importance: 0.035259578909447725\n",
      "Feature: month_of_year, Importance: 0.2680582225579722\n",
      "Feature: week_of_month, Importance: 0.8479513685890349\n",
      "          Actual  CatBoost_Prediction\n",
      "472569  1.222222             1.266506\n",
      "483108  1.100000             1.210909\n",
      "493651  1.150000             1.147875\n",
      "504222  1.136364             1.120618\n",
      "514749  1.090909             1.086498\n",
      "525322  1.043478             1.096756\n",
      "535934  1.090909             1.117186\n",
      "546577  1.090909             1.189966\n",
      "557174  1.000000             1.147067\n",
      "567733  0.800000             1.136267\n"
     ]
    }
   ],
   "source": [
    "# Прогнозы\n",
    "y_pred_catboost = best_model.predict(X_test)\n",
    "y_pred_catboost = np.clip(y_pred_catboost, 0, None)  # Клиппирование прогнозов до нуля\n",
    "\n",
    "# Метрики\n",
    "mse_catboost = mean_squared_error(y_test, y_pred_catboost)\n",
    "rmse_catboost = np.sqrt(mse_catboost)\n",
    "mape_catboost = mean_absolute_percentage_error(y_test, y_pred_catboost)\n",
    "\n",
    "print('CatBoost Regressor MSE:', mse_catboost)\n",
    "print('CatBoost Regressor RMSE:', rmse_catboost)\n",
    "print('CatBoost Regressor MAPE:', mape_catboost)\n",
    "\n",
    "# Важность признаков\n",
    "feature_importances = best_model.get_feature_importance()\n",
    "for feature, importance in zip(features, feature_importances):\n",
    "    print(f'Feature: {feature}, Importance: {importance}')\n",
    "\n",
    "# Примеры прогнозов\n",
    "comparison_df = pd.DataFrame({\n",
    "    'Actual': y_test,\n",
    "    'CatBoost_Prediction': y_pred_catboost\n",
    "})\n",
    "\n",
    "print(comparison_df.head(10))"
   ]
  },
  {
   "cell_type": "code",
   "execution_count": 23,
   "id": "5b1084b4",
   "metadata": {},
   "outputs": [],
   "source": [
    "import seaborn as sns"
   ]
  },
  {
   "cell_type": "code",
   "execution_count": 24,
   "id": "62232eb3",
   "metadata": {},
   "outputs": [
    {
     "data": {
      "image/png": "[encoded data removed]",
      "text/plain": [
       "<Figure size 1000x600 with 1 Axes>"
      ]
     },
     "metadata": {},
     "output_type": "display_data"
    }
   ],
   "source": [
    "fi_df = pd.DataFrame({\n",
    "'feature': features,\n",
    "'importance': feature_importances\n",
    "})\n",
    "\n",
    "fi_df.sort_values(by='importance', ascending=False, inplace=True)\n",
    "\n",
    "plt.figure(figsize=(10, 6))\n",
    "sns.barplot(data=fi_df, x='importance', y='feature', palette='viridis')\n",
    "\n",
    "plt.title(\"Важность признаков (Feature Importances)\")\n",
    "plt.xlabel(\"Важность (Importance)\")\n",
    "plt.ylabel(\"Признак\")\n",
    "plt.tight_layout()\n",
    "plt.show()"
   ]
  }
 ],
 "metadata": {
  "kernelspec": {
   "display_name": "Python 3 (ipykernel)",
   "language": "python",
   "name": "python3"
  },
  "language_info": {
   "codemirror_mode": {
    "name": "ipython",
    "version": 3
   },
   "file_extension": ".py",
   "mimetype": "text/x-python",
   "name": "python",
   "nbconvert_exporter": "python",
   "pygments_lexer": "ipython3",
   "version": "3.11.7"
  }
 },
 "nbformat": 4,
 "nbformat_minor": 5
}
